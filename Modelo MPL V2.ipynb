{
 "cells": [
  {
   "cell_type": "code",
   "execution_count": 5,
   "metadata": {},
   "outputs": [],
   "source": [
    "import pandas as pd\n",
    "import numpy as np\n",
    "import matplotlib.pyplot as plt\n",
    "from sklearn.preprocessing import MinMaxScaler\n",
    "from sklearn.model_selection import train_test_split\n",
    "from tensorflow import keras\n",
    "from tensorflow.keras import layers\n",
    "from sklearn.metrics import mean_absolute_error, mean_squared_error\n"
   ]
  },
  {
   "cell_type": "code",
   "execution_count": 18,
   "metadata": {},
   "outputs": [
    {
     "name": "stdout",
     "output_type": "stream",
     "text": [
      "            Data_ Hora         Dia      Hora  Nível (cm)  Vazão (m³/s)  \\\n",
      "0  30/09/2024 11:00:00  30/09/2024  11:00:00       166.0        659.32   \n",
      "1  30/09/2024 10:45:00  30/09/2024  10:45:00       165.0        650.35   \n",
      "2  30/09/2024 10:30:00  30/09/2024  10:30:00       166.0        659.32   \n",
      "3  30/09/2024 10:15:00  30/09/2024  10:15:00       166.0        659.32   \n",
      "4  30/09/2024 10:00:00  30/09/2024  10:00:00       167.0        668.33   \n",
      "\n",
      "   Chuva (mm)  \n",
      "0         0.0  \n",
      "1         0.0  \n",
      "2         0.0  \n",
      "3         0.0  \n",
      "4         0.0  \n"
     ]
    }
   ],
   "source": [
    "# Carregar o arquivo de dados\n",
    "caminho_arquivo = r'C:\\Users\\quila\\OneDrive\\Documentos\\FESA\\TCC\\Rio Araí.xlsx'\n",
    "df = pd.read_excel(caminho_arquivo)\n",
    "print(df.head())\n"
   ]
  },
  {
   "cell_type": "code",
   "execution_count": 27,
   "metadata": {},
   "outputs": [],
   "source": [
    "# Converter colunas de data e hora para o formato datetime\n",
    "df['Data_ Hora'] = pd.to_datetime(df['Data_Hora'], dayfirst=True)\n",
    "df['Dia'] = pd.to_datetime(df['Dia'], dayfirst=True)\n",
    "df['Hora'] = pd.to_datetime(df['Hora'], format='%H:%M:%S').dt.time"
   ]
  },
  {
   "cell_type": "code",
   "execution_count": 28,
   "metadata": {},
   "outputs": [],
   "source": [
    "df['Vazão (m³/s)'] = df['Vazão (m³/s)'].apply(lambda x: float(str(x).replace(',', '.')))"
   ]
  },
  {
   "cell_type": "code",
   "execution_count": 29,
   "metadata": {},
   "outputs": [],
   "source": [
    "features = ['Nível (cm)', 'Vazão (m³/s)', 'Chuva (mm)']\n",
    "X = df[features]\n",
    "y = df['Nível (cm)']"
   ]
  },
  {
   "cell_type": "code",
   "execution_count": null,
   "metadata": {},
   "outputs": [],
   "source": []
  }
 ],
 "metadata": {
  "kernelspec": {
   "display_name": "Python 3",
   "language": "python",
   "name": "python3"
  },
  "language_info": {
   "codemirror_mode": {
    "name": "ipython",
    "version": 3
   },
   "file_extension": ".py",
   "mimetype": "text/x-python",
   "name": "python",
   "nbconvert_exporter": "python",
   "pygments_lexer": "ipython3",
   "version": "3.11.3"
  }
 },
 "nbformat": 4,
 "nbformat_minor": 2
}
